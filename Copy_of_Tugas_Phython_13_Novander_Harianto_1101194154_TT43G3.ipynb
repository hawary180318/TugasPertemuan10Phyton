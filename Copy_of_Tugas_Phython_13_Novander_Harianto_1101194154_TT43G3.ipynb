{
  "nbformat": 4,
  "nbformat_minor": 0,
  "metadata": {
    "colab": {
      "name": "Copy of Tugas Phython 13_Novander Harianto_1101194154_TT43G3",
      "provenance": [],
      "collapsed_sections": [],
      "include_colab_link": true
    },
    "kernelspec": {
      "name": "python3",
      "display_name": "Python 3"
    }
  },
  "cells": [
    {
      "cell_type": "markdown",
      "metadata": {
        "id": "view-in-github",
        "colab_type": "text"
      },
      "source": [
        "<a href=\"https://colab.research.google.com/github/hawary180318/TugasPertemuan10Phyton/blob/main/Copy_of_Tugas_Phython_13_Novander_Harianto_1101194154_TT43G3.ipynb\" target=\"_parent\"><img src=\"https://colab.research.google.com/assets/colab-badge.svg\" alt=\"Open In Colab\"/></a>"
      ]
    },
    {
      "cell_type": "markdown",
      "metadata": {
        "id": "bJvxhpbvwZIv"
      },
      "source": [
        "**GRAFIK FREKUENSI 1800 MHZ**"
      ]
    },
    {
      "cell_type": "code",
      "metadata": {
        "id": "_a_N7F-JBnG8"
      },
      "source": [
        "import numpy as np\n",
        "import matplotlib.pyplot as plt\n"
      ],
      "execution_count": 1,
      "outputs": []
    },
    {
      "cell_type": "code",
      "metadata": {
        "id": "EJUGiqITQfx5"
      },
      "source": [
        "def cos(frek,tipe,ht,hr,d):\n",
        "    if frek in range(150,1501):\n",
        "        Ca=69.55\n",
        "        Cb=26.16\n",
        "    elif frek in range(1501,2001):\n",
        "        Ca=46.3\n",
        "        Cb=33.9\n",
        "    \n",
        "    if tipe=='Urban' :\n",
        "        Cm=0\n",
        "    elif tipe=='Suburban' :\n",
        "        Cm= -2*((np.log10((frek/28)**2))-5.4)\n",
        "    elif tipe=='Open' :\n",
        "        Cm= -4.78*(np.log10(frek))+18.33*(np.log10(frek))-40.94\n",
        "    else :\n",
        "        Cm='Tipe Salah'\n",
        "    \n",
        "    ahr = (1.1*np.log10(frek)-0.7)*hr-(1.56*np.log10(frek)-1.8)\n",
        "    Lp = Ca+(Cb*np.log10(frek))-(13.83*np.log(ht))-ahr+((44.9-6.55*np.log10(ht))*np.log10(d))-Cm\n",
        "    \n",
        "    return Lp"
      ],
      "execution_count": 2,
      "outputs": []
    },
    {
      "cell_type": "code",
      "metadata": {
        "id": "53d-Ye-LQlXh"
      },
      "source": [
        "f=1800 #MHz\n",
        "loc='Urban'\n",
        "loc2='Suburban'\n",
        "loc3='Open'\n",
        "tower=80 #m\n",
        "user=1.5 #m\n",
        "dmin=200 #m\n",
        "dmax=700 #m\n",
        "N=200 #titik\n",
        "d=np.random.randint(dmin,dmax,N)"
      ],
      "execution_count": 3,
      "outputs": []
    },
    {
      "cell_type": "code",
      "metadata": {
        "colab": {
          "base_uri": "https://localhost:8080/"
        },
        "id": "qhdPl7JETiqL",
        "outputId": "abb2a793-097e-4014-cb9a-e5bc676fef96"
      },
      "source": [
        "print(d)"
      ],
      "execution_count": 4,
      "outputs": [
        {
          "output_type": "stream",
          "text": [
            "[389 421 515 307 213 665 666 409 238 554 538 314 557 673 244 526 523 459\n",
            " 273 397 680 605 652 407 376 674 640 429 293 433 352 404 329 665 485 301\n",
            " 271 604 250 473 431 626 358 442 485 475 661 260 339 608 552 394 257 515\n",
            " 474 495 230 398 317 479 546 684 420 475 345 496 397 397 243 350 485 333\n",
            " 682 584 620 234 378 475 394 282 446 229 400 225 396 548 586 570 362 404\n",
            " 349 436 524 220 524 692 369 453 524 436 595 490 692 407 440 304 280 441\n",
            " 523 650 423 403 532 554 455 242 532 216 494 382 495 623 303 318 531 218\n",
            " 638 428 393 347 516 320 439 600 389 481 445 635 344 619 407 455 640 285\n",
            " 413 542 449 291 312 367 425 258 405 595 552 640 248 428 250 568 296 246\n",
            " 283 382 342 263 646 378 262 206 249 225 297 683 501 316 209 211 431 671\n",
            " 390 525 650 495 476 216 530 200 401 672 213 576 485 348 555 293 485 334\n",
            " 341 507]\n"
          ],
          "name": "stdout"
        }
      ]
    },
    {
      "cell_type": "code",
      "metadata": {
        "id": "IgW6t5oSRMBQ"
      },
      "source": [
        "LpUrban=cos(f,loc,tower,user,d)\r\n",
        "LpSuburban=cos(f,loc2,tower,user,d)\r\n",
        "LpOpen=cos(f,loc3,tower,user,d)"
      ],
      "execution_count": 5,
      "outputs": []
    },
    {
      "cell_type": "code",
      "metadata": {
        "id": "MbvWh9qIRkKJ"
      },
      "source": [
        "d_sort=d[np.argsort(d)]\n",
        "Urban_sort=LpUrban[np.argsort(d)]\n",
        "Suburban_sort=LpSuburban[np.argsort(d)]\n",
        "Open_sort=LpOpen[np.argsort(d)]"
      ],
      "execution_count": 6,
      "outputs": []
    },
    {
      "cell_type": "markdown",
      "metadata": {
        "id": "fqJ4Fx86Njge"
      },
      "source": [
        "**GAMBAR KURVA GRAFIK FREKUENSI 1800 MHZ**"
      ]
    },
    {
      "cell_type": "code",
      "metadata": {
        "colab": {
          "base_uri": "https://localhost:8080/",
          "height": 295
        },
        "id": "79YaOB0uSBn6",
        "outputId": "95af1f7f-1595-4bd4-981c-6ca6158ca137"
      },
      "source": [
        "plt.figure()\n",
        "plt.plot(d_sort,Urban_sort,'r-', label='Urban')\n",
        "plt.plot(d_sort,Suburban_sort,'k-', label='Suburban')\n",
        "plt.plot(d_sort,Open_sort,'g-', label='Open')\n",
        "plt.legend()\n",
        "plt.title('Frekuensi 1800 MHz')\n",
        "plt.xlabel('Jarak (m)')\n",
        "plt.ylabel('Path Loss (dB)')\n",
        "plt.show()\n"
      ],
      "execution_count": 7,
      "outputs": [
        {
          "output_type": "display_data",
          "data": {
            "image/png": "[encoded data removed]",
            "text/plain": [
              "<Figure size 432x288 with 1 Axes>"
            ]
          },
          "metadata": {
            "tags": [],
            "needs_background": "light"
          }
        }
      ]
    },
    {
      "cell_type": "markdown",
      "metadata": {
        "id": "19wUqWa9woIn"
      },
      "source": [
        "**GRAFIK MODEL URBAN**"
      ]
    },
    {
      "cell_type": "code",
      "metadata": {
        "id": "Zk1jSdPexLIp"
      },
      "source": [
        "f=700 #MHz\n",
        "f2=900 #MHz\n",
        "f3=1800 #MHz\n",
        "loc='Urban'\n",
        "tower=80 #m\n",
        "user=1.5 #m\n",
        "dmin=200 #m\n",
        "dmax=700 #m\n",
        "N=200 #titik\n",
        "d=np.random.randint(dmin,dmax,N)"
      ],
      "execution_count": 8,
      "outputs": []
    },
    {
      "cell_type": "code",
      "metadata": {
        "id": "Y1iMo8EvwyuB"
      },
      "source": [
        "LpUrban=cos(f,loc,tower,user,d)\r\n",
        "LpUrban2=cos(f2,loc,tower,user,d)\r\n",
        "LpUrban3=cos(f3,loc,tower,user,d)"
      ],
      "execution_count": 9,
      "outputs": []
    },
    {
      "cell_type": "code",
      "metadata": {
        "id": "AmH-XbCqxfa5"
      },
      "source": [
        "d_sort=d[np.argsort(d)]\r\n",
        "Urban_sort=LpUrban[np.argsort(d)]\r\n",
        "Urban2_sort=LpUrban2[np.argsort(d)]\r\n",
        "Urban3_sort=LpUrban3[np.argsort(d)]"
      ],
      "execution_count": 10,
      "outputs": []
    },
    {
      "cell_type": "markdown",
      "metadata": {
        "id": "myQOO0170ERp"
      },
      "source": [
        "**GAMBAR KURVA GRAFIK MODEL URBAN**"
      ]
    },
    {
      "cell_type": "code",
      "metadata": {
        "colab": {
          "base_uri": "https://localhost:8080/",
          "height": 295
        },
        "id": "SVEprCkIyFnx",
        "outputId": "b2a6ae7c-11d9-4b73-871f-bd83e3419314"
      },
      "source": [
        "plt.figure()\n",
        "plt.plot(d_sort,Urban_sort,'r-', label='700 Mhz')\n",
        "plt.plot(d_sort,Urban2_sort,'k-', label='900 Mhz')\n",
        "plt.plot(d_sort,Urban3_sort,'g-', label='1800 Mhz')\n",
        "plt.legend()\n",
        "plt.title('Model Urban')\n",
        "plt.xlabel('Jarak (m)')\n",
        "plt.ylabel('Path Loss (dB)')\n",
        "plt.show()\n"
      ],
      "execution_count": 11,
      "outputs": [
        {
          "output_type": "display_data",
          "data": {
            "image/png": "[encoded data removed]",
            "text/plain": [
              "<Figure size 432x288 with 1 Axes>"
            ]
          },
          "metadata": {
            "tags": [],
            "needs_background": "light"
          }
        }
      ]
    }
  ]
}